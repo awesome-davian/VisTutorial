{
 "cells": [
  {
   "cell_type": "code",
   "execution_count": null,
   "metadata": {
    "collapsed": true
   },
   "outputs": [],
   "source": [
    "import os\n",
    "import matplotlib.pyplot as plt\n",
    "import numpy as np\n",
    "import pandas as pd\n",
    "%matplotlib inline"
   ]
  },
  {
   "cell_type": "code",
   "execution_count": null,
   "metadata": {
    "collapsed": true
   },
   "outputs": [],
   "source": [
    "# load data\n",
    "file_dir = 'data/2/'\n",
    "files = os.listdir(file_dir)\n",
    "coins = [x.split('.')[0] for x in files] \n",
    "coin_dict = dict()\n",
    "for i,coin in enumerate(coins):\n",
    "    filename = files[i] # .csv 달린 파일이름\n",
    "    coin_dict[coin] = pd.read_csv(os.path.join(file_dir,filename))"
   ]
  },
  {
   "cell_type": "code",
   "execution_count": null,
   "metadata": {
    "collapsed": true
   },
   "outputs": [],
   "source": [
    "# get volumes for a certain timestep\n",
    "time = 200\n",
    "volumes = []\n",
    "for coin in coins:\n",
    "    volumes.append(coin_dict[coin].Volume[time])"
   ]
  },
  {
   "cell_type": "code",
   "execution_count": null,
   "metadata": {},
   "outputs": [],
   "source": [
    "volumes"
   ]
  },
  {
   "cell_type": "code",
   "execution_count": null,
   "metadata": {},
   "outputs": [],
   "source": [
    "# initial pie chart\n",
    "plt.pie(volumes, labels=coins)\n",
    "plt.show()"
   ]
  },
  {
   "cell_type": "code",
   "execution_count": null,
   "metadata": {},
   "outputs": [],
   "source": [
    "# additional features\n",
    "explode = (0.1,0.1,0.1,0.1,0.1) # stand out\n",
    "plt.pie(volumes, \n",
    "        explode=explode,\n",
    "        autopct='%1.1f%%',\n",
    "        labels=coins, \n",
    "        startangle=90)\n",
    "# pie is drawn as a circle\n",
    "plt.axis('equal')\n",
    "plt.show()"
   ]
  },
  {
   "cell_type": "code",
   "execution_count": null,
   "metadata": {},
   "outputs": [],
   "source": [
    "print(coins)\n",
    "print(volumes)"
   ]
  },
  {
   "cell_type": "code",
   "execution_count": null,
   "metadata": {
    "scrolled": true
   },
   "outputs": [],
   "source": [
    "# bar chart for multiple timesteps\n",
    "times = [0,100,200,350]\n",
    "width=0.15\n",
    "ind = np.arange(4)\n",
    "fig, ax = plt.subplots()\n",
    "volume_dict=dict()\n",
    "for coin in coins:\n",
    "    volume_dict[coin]=[]\n",
    "    for time in times:\n",
    "        volume_dict[coin].append(\n",
    "            coin_dict[coin].Volume[time])\n",
    "        \n",
    "data = coin_dict[coin]\n",
    "ax.set_xticks([0,1,2,3])\n",
    "ax.set_xticklabels([data.Date[0],data.Date[100],\n",
    "                    data.Date[200],data.Date[350]],\n",
    "                   rotation=45)\n",
    "\n",
    "width = 0.15\n",
    "rect0=ax.bar(ind,volume_dict[coins[0]],width, color='r')\n",
    "rect1=ax.bar(ind+width,volume_dict[coins[1]],width, color='y')\n",
    "rect2=ax.bar(ind+width*2,volume_dict[coins[2]],width, color='b')\n",
    "rect3=ax.bar(ind+width*3,volume_dict[coins[3]],width, color='g')\n",
    "rect4=ax.bar(ind+width*4,volume_dict[coins[4]],width, color='purple')\n",
    "#         rects1 = ax.bar(0,volume_dict[times[0]])\n",
    "ax.legend(coins)\n",
    "plt.show()"
   ]
  },
  {
   "cell_type": "code",
   "execution_count": null,
   "metadata": {
    "collapsed": true
   },
   "outputs": [],
   "source": []
  }
 ],
 "metadata": {
  "kernelspec": {
   "display_name": "Python 3",
   "language": "python",
   "name": "python3"
  },
  "language_info": {
   "codemirror_mode": {
    "name": "ipython",
    "version": 3
   },
   "file_extension": ".py",
   "mimetype": "text/x-python",
   "name": "python",
   "nbconvert_exporter": "python",
   "pygments_lexer": "ipython3",
   "version": "3.6.1"
  }
 },
 "nbformat": 4,
 "nbformat_minor": 2
}
