{
 "cells": [
  {
   "cell_type": "code",
   "execution_count": null,
   "metadata": {
    "ExecuteTime": {
     "end_time": "2018-02-08T05:55:14.409311Z",
     "start_time": "2018-02-08T05:55:14.018771Z"
    }
   },
   "outputs": [],
   "source": [
    "from sklearn.decomposition import NMF\n",
    "from sklearn.preprocessing import normalize\n",
    "from collections import Counter\n",
    "from scipy.sparse import dok_matrix\n",
    "import numpy as np\n",
    "from nltk.stem import WordNetLemmatizer\n",
    "import stop_words\n",
    "import ujson as json\n",
    "import re\n",
    "\n",
    "stopwords = set(stop_words.get_stop_words('en'))\n",
    "stopwords.update(['quote', 'pmquote', 'amquote', 'just', 'don', 'one', 'thing', 'even', 'way', 'maybe', 'also', 'please', 'well', 'actually', 'something',\n",
    "                                         'going', 'anything', 'le', 'ever', 'say', 'see', 'likely', 'per', 'another', 'someone', 'let', 'anyone', 'doesn', 'include', 'doe'])\n",
    "lemmatizer = WordNetLemmatizer()"
   ]
  },
  {
   "cell_type": "code",
   "execution_count": null,
   "metadata": {
    "ExecuteTime": {
     "end_time": "2018-02-08T05:55:15.335489Z",
     "start_time": "2018-02-08T05:55:15.326930Z"
    },
    "collapsed": true
   },
   "outputs": [],
   "source": [
    "def parse_string(input_string):\n",
    "    input_string = input_string.lower()\n",
    "    input_string = re.sub(r'http\\S+', ' ', input_string)\n",
    "    words = re.sub( \"[^a-zA-Z]\", \" \", input_string).split()\n",
    "    words = [lemmatizer.lemmatize(w) for w in words]\n",
    "    words = [w for w in words if w not in stopwords and len(w) > 2]\n",
    "    return words"
   ]
  },
  {
   "cell_type": "code",
   "execution_count": null,
   "metadata": {
    "ExecuteTime": {
     "end_time": "2018-02-08T10:31:03.159969Z",
     "start_time": "2018-02-08T10:31:02.885140Z"
    },
    "collapsed": true
   },
   "outputs": [],
   "source": [
    "with open('./bitcoin_post.json') as f:\n",
    "    posts = json.load(f)"
   ]
  },
  {
   "cell_type": "code",
   "execution_count": null,
   "metadata": {
    "ExecuteTime": {
     "end_time": "2018-02-08T10:31:06.053442Z",
     "start_time": "2018-02-08T10:31:06.046889Z"
    }
   },
   "outputs": [],
   "source": [
    "print(len(posts))\n",
    "print(posts[0])"
   ]
  },
  {
   "cell_type": "code",
   "execution_count": null,
   "metadata": {
    "ExecuteTime": {
     "end_time": "2018-02-08T05:58:08.426341Z",
     "start_time": "2018-02-08T05:57:14.910495Z"
    }
   },
   "outputs": [],
   "source": [
    "preprocessed_data = []\n",
    "voca = set()\n",
    "word_freq = Counter()\n",
    "\n",
    "with open('./bitcoin_post.json') as f:\n",
    "    posts = json.load(f)\n",
    "    for post in posts:\n",
    "        post_words = parse_string(post['body'])\n",
    "        word_freq.update(post_words)\n",
    "\n",
    "with open('./bitcoin_post.json') as f:\n",
    "    posts = json.load(f)\n",
    "    for i, post in enumerate(posts):\n",
    "        post_words = parse_string(post['body'])\n",
    "        post_words = [w for w in post_words if word_freq[w] >= 10]\n",
    "        if len(post_words) < 5:\n",
    "            continue\n",
    "        \n",
    "        voca.update(post_words)\n",
    "        post['words'] = post_words\n",
    "        preprocessed_data.append(post)\n",
    "            \n",
    "            \n",
    "voca = list(voca)\n",
    "word2id = {w: i for i, w in enumerate(voca)}\n",
    "del posts\n",
    "# 약 1분 걸림"
   ]
  },
  {
   "cell_type": "code",
   "execution_count": null,
   "metadata": {
    "ExecuteTime": {
     "end_time": "2018-02-08T06:23:10.523616Z",
     "start_time": "2018-02-08T06:21:59.965246Z"
    },
    "collapsed": true
   },
   "outputs": [],
   "source": [
    "tdm = dok_matrix((len(preprocessed_data), len(voca)), dtype=np.float32)\n",
    "for i, post in enumerate(preprocessed_data):\n",
    "    for word in post['words']:\n",
    "        tdm[i, word2id[word]] += 1\n",
    "\n",
    "tdm = tdm.tocsr()\n",
    "tdm = normalize(tdm)\n",
    "# 약 1분 걸림"
   ]
  },
  {
   "cell_type": "code",
   "execution_count": null,
   "metadata": {
    "ExecuteTime": {
     "end_time": "2018-02-08T06:29:06.243902Z",
     "start_time": "2018-02-08T06:29:03.702460Z"
    },
    "collapsed": true
   },
   "outputs": [],
   "source": [
    "K = 7\n",
    "nmf = NMF(n_components=K)\n",
    "W = nmf.fit_transform(tdm)\n",
    "H = nmf.components_"
   ]
  },
  {
   "cell_type": "code",
   "execution_count": null,
   "metadata": {
    "ExecuteTime": {
     "end_time": "2018-02-08T06:29:11.392398Z",
     "start_time": "2018-02-08T06:29:11.357741Z"
    },
    "scrolled": true
   },
   "outputs": [],
   "source": [
    "for k in range(K):\n",
    "    print(f\"{k}th topic\")\n",
    "    for idx in H[k].argsort()[::-1][:10]:\n",
    "        print(voca[idx], end=' ')\n",
    "    print()"
   ]
  },
  {
   "cell_type": "code",
   "execution_count": null,
   "metadata": {
    "ExecuteTime": {
     "end_time": "2018-02-08T08:43:48.505284Z",
     "start_time": "2018-02-08T08:40:53.541886Z"
    },
    "collapsed": true
   },
   "outputs": [],
   "source": [
    "from sklearn.manifold import TSNE\n",
    "\n",
    "random_index = np.random.choice(len(preprocessed_data), size=2000)\n",
    "document_2d = TSNE(init='pca').fit_transform(tdm[random_index].toarray())\n",
    "\n",
    "document_topic = W[random_index, :].argmax(axis=1)\n",
    "topic_document_indexes = [[] for i in range(K)]\n",
    "for i, topic in enumerate(document_topic):\n",
    "    topic_document_indexes[topic].append(i)\n",
    "    \n",
    "# 약 2~3분 걸림"
   ]
  },
  {
   "cell_type": "code",
   "execution_count": null,
   "metadata": {
    "ExecuteTime": {
     "end_time": "2018-02-08T08:43:53.736283Z",
     "start_time": "2018-02-08T08:43:52.714446Z"
    }
   },
   "outputs": [],
   "source": [
    "from bokeh.models import HoverTool, Legend\n",
    "from bokeh.palettes import Category20\n",
    "from bokeh.io import show, output_notebook\n",
    "from bokeh.plotting import figure, ColumnDataSource\n",
    "output_notebook()\n",
    "\n",
    "# 사용할 툴들\n",
    "p = figure(plot_width=900, plot_height=600, \n",
    "                     toolbar_location='above',  x_range=(document_2d[:, 0].min()*1.05, document_2d[:, 1].max()*1.2))\n",
    "\n",
    "# 각 토픽별 그래프에 추가하도록 source data 생성\n",
    "circles = []\n",
    "for k, document_indexes in enumerate(topic_document_indexes):\n",
    "    document_source = ColumnDataSource(data={\n",
    "        'x': document_2d[document_indexes, 0],\n",
    "        'y': document_2d[document_indexes, 1],\n",
    "        'topic': [k for _ in document_indexes],\n",
    "        'title': [preprocessed_data[random_index[i]]['title'] for i in document_indexes],\n",
    "        'body': [preprocessed_data[random_index[i]]['body'][:75] for i in document_indexes],\n",
    "        'color': [Category20[10][k] for _ in document_indexes],\n",
    "    })\n",
    "    circles.append(p.circle('x', 'y', color='color', legend='topic', source=document_source, size=6))\n",
    "\n",
    "# 몇가지 interaction\n",
    "p.add_tools(HoverTool(tooltips=[('topic', '@topic'), (\"title\", \"@title\"), ('body', '@body')], renderers=circles, mode='mouse'))\n",
    "p.legend.click_policy = 'hide'\n",
    "show(p)"
   ]
  },
  {
   "cell_type": "code",
   "execution_count": null,
   "metadata": {
    "ExecuteTime": {
     "end_time": "2018-02-08T08:39:10.464712Z",
     "start_time": "2018-02-08T08:39:10.426040Z"
    }
   },
   "outputs": [],
   "source": [
    "for k in range(K):\n",
    "    print(f\"{k}th topic\")\n",
    "    for idx in H[k].argsort()[::-1][:10]:\n",
    "        print(voca[idx], end=' ')\n",
    "    print()"
   ]
  },
  {
   "cell_type": "code",
   "execution_count": null,
   "metadata": {
    "collapsed": true
   },
   "outputs": [],
   "source": []
  }
 ],
 "metadata": {
  "kernelspec": {
   "display_name": "Python 3",
   "language": "python",
   "name": "python3"
  },
  "language_info": {
   "codemirror_mode": {
    "name": "ipython",
    "version": 3
   },
   "file_extension": ".py",
   "mimetype": "text/x-python",
   "name": "python",
   "nbconvert_exporter": "python",
   "pygments_lexer": "ipython3",
   "version": "3.6.1"
  },
  "varInspector": {
   "cols": {
    "lenName": 16,
    "lenType": 16,
    "lenVar": 40
   },
   "kernels_config": {
    "python": {
     "delete_cmd_postfix": "",
     "delete_cmd_prefix": "del ",
     "library": "var_list.py",
     "varRefreshCmd": "print(var_dic_list())"
    },
    "r": {
     "delete_cmd_postfix": ") ",
     "delete_cmd_prefix": "rm(",
     "library": "var_list.r",
     "varRefreshCmd": "cat(var_dic_list()) "
    }
   },
   "types_to_exclude": [
    "module",
    "function",
    "builtin_function_or_method",
    "instance",
    "_Feature"
   ],
   "window_display": false
  }
 },
 "nbformat": 4,
 "nbformat_minor": 2
}
