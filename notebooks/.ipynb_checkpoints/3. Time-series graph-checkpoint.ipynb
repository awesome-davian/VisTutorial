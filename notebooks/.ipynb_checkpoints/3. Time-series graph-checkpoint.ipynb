{
 "cells": [
  {
   "cell_type": "markdown",
   "metadata": {},
   "source": [
    "### 1. Pandas 이용해서 엑셀 파일을 파이썬에서 열기\n",
    "\n",
    "- 파이썬에서 데이터 시각화를 하기 위해서는 우선 데이터 파일을 불러와야 함\n",
    "- 엑셀 시트와 같은 테이블 형태의 데이터를 시각화할 일이 많음\n",
    "- Pandas 패키지를 이용해서 보다 쉽게 테이블 데이터를 불러오고 적용할 수 있음"
   ]
  },
  {
   "cell_type": "code",
   "execution_count": null,
   "metadata": {
    "collapsed": true
   },
   "outputs": [],
   "source": [
    "import pandas as pd\n",
    "\n",
    "# load file\n",
    "file_name = 'data/1/data.csv' # data 폴더 안에 1 폴더 안에 data.csv 라는 파일이 있음\n",
    "data = pd.read_csv(file_name)"
   ]
  },
  {
   "cell_type": "code",
   "execution_count": null,
   "metadata": {
    "scrolled": true
   },
   "outputs": [],
   "source": [
    "# 한번 데이터를 보겠습니다\n",
    "data"
   ]
  },
  {
   "cell_type": "code",
   "execution_count": null,
   "metadata": {
    "scrolled": true
   },
   "outputs": [],
   "source": [
    "# 한 column씩 보겠습니다\n",
    "data.Close # 혹은 data['Close']"
   ]
  },
  {
   "cell_type": "code",
   "execution_count": null,
   "metadata": {
    "scrolled": true
   },
   "outputs": [],
   "source": [
    "# 몇 개의 row를 선택해서 볼 수도 있습니다\n",
    "data[100:102]"
   ]
  },
  {
   "cell_type": "markdown",
   "metadata": {},
   "source": [
    "### 2. Matplotlib 이용해서 그래프 만들기\n",
    "\n",
    "- Matplotlib은 가장 간단하면서 가장 대중적인 파이썬의 데이터 시각화 툴\n",
    "- 테이블 데이터 등을 이용해서 쉽게 여러 그래프를 만들 수 있음\n",
    "- 데이터를 이용한 시계열 그래프를 만듦"
   ]
  },
  {
   "cell_type": "code",
   "execution_count": null,
   "metadata": {
    "collapsed": true
   },
   "outputs": [],
   "source": [
    "import matplotlib.pyplot as plt\n",
    "%matplotlib inline"
   ]
  },
  {
   "cell_type": "code",
   "execution_count": null,
   "metadata": {
    "scrolled": true
   },
   "outputs": [],
   "source": [
    "# 종가 (Close)가 1년동안 어떻게 바뀌는지 알아보고자 그래프를 그림\n",
    "plt.plot(data.Close)\n",
    "plt.show()"
   ]
  },
  {
   "cell_type": "code",
   "execution_count": null,
   "metadata": {
    "scrolled": false
   },
   "outputs": [],
   "source": [
    "# 크기 조정을 위해서는 plt.figure 사용\n",
    "plt.figure(figsize=(40,24))\n",
    "plt.plot(data.Close)\n",
    "plt.show()"
   ]
  },
  {
   "cell_type": "code",
   "execution_count": null,
   "metadata": {},
   "outputs": [],
   "source": [
    "# 색깔 및 두께 바꿔가면서 할 수도 있음\n",
    "plt.figure(figsize=(40,24))\n",
    "plt.plot(data.Close,linewidth=10, color='green')\n",
    "plt.show()"
   ]
  },
  {
   "cell_type": "code",
   "execution_count": null,
   "metadata": {},
   "outputs": [],
   "source": [
    "# x축, y축에 표시된 값 크기 및 내용 변경, 제목 생성\n",
    "plt.figure(figsize=(40,24))\n",
    "plt.plot(data.Close,linewidth=10)\n",
    "plt.suptitle('Change of close prices over last year', fontsize=80)\n",
    "plt.xlabel('Date', fontsize=80)\n",
    "plt.ylabel('Price', fontsize=80)\n",
    "plt.show()"
   ]
  },
  {
   "cell_type": "code",
   "execution_count": null,
   "metadata": {},
   "outputs": [],
   "source": [
    "# x축에 표시된 값을 날짜로 변경 (날짜는 pandas Dataframe에서 찾을 수 있음)\n",
    "plt.figure(figsize=(40,24))\n",
    "plt.plot(data.Close,linewidth=10)\n",
    "plt.suptitle('Change of close prices over last year', fontsize=80)\n",
    "plt.xlabel('Date', fontsize=80)\n",
    "plt.ylabel('Price', fontsize=80)\n",
    "plt.rc('xtick', labelsize=50)\n",
    "plt.rc('ytick', labelsize=50)\n",
    "ax = plt.gca() # grab current axis\n",
    "ax.set_xticks([0,50,100,150,200,250,300,350])\n",
    "ax.set_xticklabels([data.Date[0],data.Date[50],\n",
    "                    data.Date[100],data.Date[150],\n",
    "                    data.Date[200],data.Date[250],\n",
    "                    data.Date[300],data.Date[350]],\n",
    "                   rotation=45)\n",
    "plt.show()"
   ]
  },
  {
   "cell_type": "code",
   "execution_count": null,
   "metadata": {
    "scrolled": false
   },
   "outputs": [],
   "source": [
    "# 다 그려진 그래프 위에서 특정 지점을 나타내고 텍스트를 넣어봅시다\n",
    "plt.figure(figsize=(40,24))\n",
    "plt.plot(data.Close,linewidth=10)\n",
    "plt.suptitle('Change of Ripple prices over last year', fontsize=80)\n",
    "plt.xlabel('Date', fontsize=80)\n",
    "plt.ylabel('Price', fontsize=80)\n",
    "plt.rc('xtick', labelsize=50)\n",
    "plt.rc('ytick', labelsize=50)\n",
    "ax = plt.gca() # grab current axis\n",
    "ax.set_xticks([0,50,100,150,200,250,300,350])\n",
    "ax.set_xticklabels([data.Date[0],data.Date[50],data.Date[100],data.Date[150],data.Date[200],data.Date[250],data.Date[300],\n",
    "                    data.Date[350]],rotation=45)\n",
    "p1 = 270\n",
    "ax.annotate('purchase', \n",
    "            xy=(p1,data.Close[p1]), \n",
    "            xytext=(p1-20,data.Close[p1]+0.2), \n",
    "            arrowprops=dict(facecolor='red', \n",
    "                            shrink=0.05), \n",
    "            fontsize=60)\n",
    "p2 = 280\n",
    "ax.annotate('sell', xy=(p2,data.Close[p2]), xytext=(p2-10,data.Close[p2]-0.3), \n",
    "            arrowprops=dict(facecolor='black', shrink=0.05), fontsize=60)\n",
    "p3 = 325\n",
    "ax.annotate('purchase', xy=(p3,data.Close[p3]), xytext=(p3-30,data.Close[p3]+0.2), \n",
    "            arrowprops=dict(facecolor='red', shrink=0.05), fontsize=60)\n",
    "p4 = 340\n",
    "ax.annotate('sell', xy=(p4,data.Close[p4]), xytext=(p4+10,data.Close[p4]+0.2), \n",
    "            arrowprops=dict(facecolor='black', shrink=0.05), fontsize=60)\n",
    "p5 = 360\n",
    "ax.annotate('purchase', xy=(p5,data.Close[p5]), xytext=(p5,data.Close[p5]+0.2), \n",
    "            arrowprops=dict(facecolor='red', shrink=0.05), fontsize=60)\n",
    "plt.show()"
   ]
  },
  {
   "cell_type": "code",
   "execution_count": null,
   "metadata": {},
   "outputs": [],
   "source": [
    "# 저장하기\n",
    "# 다 그려진 그래프 위에서 특정 지점을 나타내고 텍스트를 넣어봅시다\n",
    "plt.figure(figsize=(40,24))\n",
    "plt.plot(data.Close,linewidth=10)\n",
    "plt.suptitle('Change of Ripple prices over last year', fontsize=80)\n",
    "plt.xlabel('Date', fontsize=80)\n",
    "plt.ylabel('Price', fontsize=80)\n",
    "plt.rc('xtick', labelsize=50)\n",
    "plt.rc('ytick', labelsize=50)\n",
    "ax = plt.gca() # grab current axis\n",
    "ax.set_xticks([0,50,100,150,200,250,300,350])\n",
    "ax.set_xticklabels([data.Date[0],data.Date[50],data.Date[100],data.Date[150],data.Date[200],data.Date[250],data.Date[300],\n",
    "                    data.Date[350]],rotation=45)\n",
    "p1 = 270\n",
    "ax.annotate('purchase', \n",
    "            xy=(p1,data.Close[p1]), \n",
    "            xytext=(p1-20,data.Close[p1]+0.2), \n",
    "            arrowprops=dict(facecolor='red', \n",
    "                            shrink=0.05), \n",
    "            fontsize=60)\n",
    "p2 = 280\n",
    "ax.annotate('sell', xy=(p2,data.Close[p2]), xytext=(p2-10,data.Close[p2]-0.3), \n",
    "            arrowprops=dict(facecolor='black', shrink=0.05), fontsize=60)\n",
    "p3 = 325\n",
    "ax.annotate('purchase', xy=(p3,data.Close[p3]), xytext=(p3-30,data.Close[p3]+0.2), \n",
    "            arrowprops=dict(facecolor='red', shrink=0.05), fontsize=60)\n",
    "p4 = 340\n",
    "ax.annotate('sell', xy=(p4,data.Close[p4]), xytext=(p4+10,data.Close[p4]+0.2), \n",
    "            arrowprops=dict(facecolor='black', shrink=0.05), fontsize=60)\n",
    "p5 = 360\n",
    "ax.annotate('purchase', xy=(p5,data.Close[p5]), xytext=(p5,data.Close[p5]+0.2), \n",
    "            arrowprops=dict(facecolor='red', shrink=0.05), fontsize=60)\n",
    "plt.savefig('Ripple chart.png')"
   ]
  },
  {
   "cell_type": "markdown",
   "metadata": {},
   "source": [
    "### 3. Matplotlib 이용해서 다양한 시계열 데이터 간 비교\n",
    "\n",
    "- 여러 개의 시계열 데이터 간 비교 그래프\n",
    "- 범례 추가 등을 통한 가독성 향상"
   ]
  },
  {
   "cell_type": "code",
   "execution_count": null,
   "metadata": {},
   "outputs": [],
   "source": [
    "# 아까와 같이 데이터를 pandas 형태로 저장합니다\n",
    "import pandas as pd\n",
    "import os # 파일 디렉토리 확인 및 불러오기를 쉽게 해주는 패키지\n",
    "file_dir = 'data/2/'\n",
    "files = os.listdir(file_dir)\n",
    "print(files)\n",
    "coins = [x.split('.')[0] for x in files] # csv 빼고 이름만 남기게\n",
    "print(coins)"
   ]
  },
  {
   "cell_type": "code",
   "execution_count": null,
   "metadata": {
    "collapsed": true
   },
   "outputs": [],
   "source": [
    "# for문쓰면서 처리하기 쉽게 dictionary에다가 pandas dataframe 저장\n",
    "coin_dict = dict()\n",
    "for i,coin in enumerate(coins):\n",
    "    filename = files[i] # .csv 달린 파일이름\n",
    "    coin_dict[coin] = pd.read_csv(os.path.join(file_dir,filename))"
   ]
  },
  {
   "cell_type": "code",
   "execution_count": null,
   "metadata": {
    "scrolled": true
   },
   "outputs": [],
   "source": [
    "# dictionary에 어떻게 저장되었는지 봅시다\n",
    "coin_dict['bitcoin']"
   ]
  },
  {
   "cell_type": "code",
   "execution_count": null,
   "metadata": {},
   "outputs": [],
   "source": [
    "# 모든 값들을 다 넣어서 시각화해 봅시다\n",
    "plt.figure(figsize=(40,20))\n",
    "for coin in coins:\n",
    "    plt.plot(coin_dict[coin].Close, linewidth=5)\n",
    "plt.show()"
   ]
  },
  {
   "cell_type": "code",
   "execution_count": null,
   "metadata": {},
   "outputs": [],
   "source": [
    "# 범례를 넣어서 각각의 선을 파악할 수 있습니다\n",
    "plt.figure(figsize=(40,20))\n",
    "for coin in coins:\n",
    "    plt.plot(coin_dict[coin].Close, \n",
    "             linewidth=5,\n",
    "            label=coin)\n",
    "plt.legend(loc='upper left',fontsize=50)\n",
    "plt.show()"
   ]
  },
  {
   "cell_type": "code",
   "execution_count": null,
   "metadata": {},
   "outputs": [],
   "source": [
    "# 실제 증가량이 아닌, 증가비율로 봄으로써 상대적인 비교가 가능해집니다\n",
    "import numpy as np # numpy: 행렬연산 및 여러 수학연산을 위한 간편한 패키지\n",
    "plt.figure(figsize=(40,20))\n",
    "# plt.suptitle('Change ratio of close prices over last year', fontsize=80)\n",
    "# plt.xlabel('Date', fontsize=80)\n",
    "# plt.ylabel('Increase', fontsize=80)\n",
    "# plt.rc('xtick', labelsize=50)\n",
    "# plt.rc('ytick', labelsize=50)\n",
    "# ax = plt.gca() # grab current axis\n",
    "# ax.set_xticks([0,50,100,150,200,250,300,350])\n",
    "# ax.set_xticklabels([data.Date[0],data.Date[50],data.Date[100],data.Date[150],data.Date[200],data.Date[250],data.Date[300],\n",
    "#                     data.Date[350]],rotation=45)\n",
    "for coin in coins:\n",
    "    # 첫번째 값으로 표준화 진행\n",
    "    start = coin_dict[coin].Close[0] \n",
    "    normalized = coin_dict[coin].Close.tolist()\n",
    "    normalized = np.array(normalized)\n",
    "    normalized = normalized/start\n",
    "    plt.plot(normalized,linewidth=5,\n",
    "            label=coin)\n",
    "plt.legend(loc='upper left',fontsize=50)\n",
    "plt.show()"
   ]
  },
  {
   "cell_type": "code",
   "execution_count": null,
   "metadata": {},
   "outputs": [],
   "source": [
    "# 실제 증가량이 아닌, 증가비율로 봄으로써 상대적인 비교가 가능해집니다\n",
    "import numpy as np # numpy: 행렬연산 및 여러 수학연산을 위한 간편한 패키지\n",
    "plt.figure(figsize=(40,20))\n",
    "plt.suptitle('Change ratio of close prices over last year', fontsize=80)\n",
    "plt.xlabel('Date', fontsize=60)\n",
    "plt.ylabel('Increase', fontsize=60)\n",
    "plt.rc('xtick', labelsize=50)\n",
    "plt.rc('ytick', labelsize=50)\n",
    "ax = plt.gca() # grab current axis\n",
    "ax.set_xticks([0,50,100,150,200,250,300,350])\n",
    "ax.set_xticklabels([data.Date[0],data.Date[50],data.Date[100],data.Date[150],data.Date[200],data.Date[250],data.Date[300],\n",
    "                    data.Date[350]],rotation=45)\n",
    "for coin in coins:\n",
    "    # 첫번째 값으로 표준화 진행\n",
    "    start = coin_dict[coin].Close[0] \n",
    "    normalized = coin_dict[coin].Close.tolist()\n",
    "    normalized = np.array(normalized)\n",
    "    normalized = normalized/start\n",
    "    plt.plot(normalized,linewidth=5,\n",
    "            label=coin)\n",
    "plt.legend(loc='upper left',fontsize=50)\n",
    "plt.show()"
   ]
  },
  {
   "cell_type": "code",
   "execution_count": null,
   "metadata": {},
   "outputs": [],
   "source": [
    "# 이건 거래량 비교를 위한 그림입니다\n",
    "import numpy as np # numpy: 행렬연산 및 여러 수학연산을 위한 간편한 패키지\n",
    "plt.figure(figsize=(40,20))\n",
    "plt.suptitle('Change of volume over last year', fontsize=80)\n",
    "plt.xlabel('Date', fontsize=80)\n",
    "plt.ylabel('Volume', fontsize=80)\n",
    "plt.rc('xtick', labelsize=50)\n",
    "plt.rc('ytick', labelsize=50)\n",
    "ax = plt.gca() # grab current axis\n",
    "ax.set_xticks([0,50,100,150,200,250,300,350])\n",
    "ax.set_xticklabels([data.Date[0],data.Date[50],data.Date[100],data.Date[150],data.Date[200],data.Date[250],data.Date[300],\n",
    "                    data.Date[350]],rotation=45)\n",
    "for coin in coins:\n",
    "    plt.plot(coin_dict[coin].Volume,linewidth=5, label=coin)\n",
    "plt.legend(loc='upper left',fontsize=50)\n",
    "plt.show()"
   ]
  },
  {
   "cell_type": "code",
   "execution_count": null,
   "metadata": {
    "collapsed": true
   },
   "outputs": [],
   "source": []
  }
 ],
 "metadata": {
  "kernelspec": {
   "display_name": "Python 3",
   "language": "python",
   "name": "python3"
  },
  "language_info": {
   "codemirror_mode": {
    "name": "ipython",
    "version": 3
   },
   "file_extension": ".py",
   "mimetype": "text/x-python",
   "name": "python",
   "nbconvert_exporter": "python",
   "pygments_lexer": "ipython3",
   "version": "3.6.1"
  }
 },
 "nbformat": 4,
 "nbformat_minor": 2
}
